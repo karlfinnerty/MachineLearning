{
  "nbformat": 4,
  "nbformat_minor": 0,
  "metadata": {
    "colab": {
      "provenance": []
    },
    "kernelspec": {
      "name": "python3",
      "display_name": "Python 3"
    },
    "language_info": {
      "name": "python"
    },
    "accelerator": "GPU"
  },
  "cells": [
    {
      "cell_type": "code",
      "execution_count": null,
      "metadata": {
        "id": "oWDPicrIqdve"
      },
      "outputs": [],
      "source": [
        "#!tar -xvf  '/content/drive/MyDrive/Colab Notebooks/data/imagewoof-320.tgz' -C '/content/drive/MyDrive/Colab Notebooks/data/'"
      ]
    },
    {
      "cell_type": "code",
      "source": [
        "# Mount google drive and define locations of original, unmodified imagewoof data\n",
        "from google.colab import drive, files\n",
        "import os\n",
        "\n",
        "drive.mount(\"/content/drive\", force_remount=True)\n",
        "working_dir = \"/content/drive/MyDrive/Colab Notebooks/\"\n",
        "\n",
        "imagewoof_dir = os.path.join(working_dir, \"data/imagewoof-320\")\n",
        "original_train_dir = os.path.join(imagewoof_dir, \"train\")\n",
        "original_test_dir = os.path.join(imagewoof_dir, \"val\")"
      ],
      "metadata": {
        "colab": {
          "base_uri": "https://localhost:8080/"
        },
        "id": "CPFwhNE8r3v2",
        "outputId": "62e44f58-76c7-4819-a1a6-59ee106650e9"
      },
      "execution_count": null,
      "outputs": [
        {
          "output_type": "stream",
          "name": "stdout",
          "text": [
            "Mounted at /content/drive\n"
          ]
        }
      ]
    },
    {
      "cell_type": "code",
      "source": [
        "from pathlib import Path\n",
        "from shutil import copyfile\n",
        "from distutils.dir_util import copy_tree # import necessary to circumvent issues with using shutils.copytree in Python v3.6\n",
        "\n",
        "# \"n02088364\": beagle\n",
        "# \"n02093754\": border_terrier\n",
        "# \"n02099601\": golden_retriever\n",
        "# \"n02111889\": samoyed\n",
        "# \"n02115641\": dingo\n",
        "chosen_classes = {\n",
        "    \"n02088364\": \"beagle\", \n",
        "    \"n02093754\": \"border_terrier\", \n",
        "    \"n02099601\": \"golden_retriever\", \n",
        "    \"n02111889\": \"samoyed\", \n",
        "    \"n02115641\": \"dingo\"\n",
        "}\n",
        "\n",
        "# Create 2 class folders that will contain all instances of their respective class\n",
        "# Create 3 directories for train validate and test data\n",
        "def init_run():\n",
        "    Path(run_dir+\"/train\").mkdir(parents=True, exist_ok=True)\n",
        "    Path(run_dir+\"/validate\").mkdir(parents=True, exist_ok=True)\n",
        "    Path(run_dir+\"/test\").mkdir(parents=True, exist_ok=True)\n",
        "\n",
        "    for c in chosen_classes.keys():\n",
        "        Path(run_dir+\"/\"+chosen_classes[c]).mkdir(parents=True, exist_ok=True)\n",
        "        Path(run_dir+\"/train/\"+chosen_classes[c]).mkdir(parents=True, exist_ok=True)\n",
        "        Path(run_dir+\"/validate/\"+chosen_classes[c]).mkdir(parents=True, exist_ok=True)\n",
        "        Path(run_dir+\"/test/\"+chosen_classes[c]).mkdir(parents=True, exist_ok=True)\n",
        "\n",
        "# Only copy the classes to be used in the model to the run directory\n",
        "def drop_classes():\n",
        "    try:\n",
        "        # Copy all images in train/class_name and val/class_name to run_dir/class_name\n",
        "        for c in chosen_classes.keys():\n",
        "            copy_tree(original_train_dir+\"/\"+c, run_dir+\"/\"+chosen_classes[c])\n",
        "            copy_tree(original_test_dir+\"/\"+c, run_dir+\"/\"+chosen_classes[c])\n",
        "    \n",
        "    except Exception as e:\n",
        "        print(e)\n",
        "\n",
        "# Get a portion of data from each of the classes and put it the the appropriate dir\n",
        "# Prior testing shows that the classes are perfectly balanced meaning that we can allocate the same number of each class to train validate and test dirs\n",
        "def split_data():\n",
        "    train_split = 810\n",
        "    validate_split = train_split + 270\n",
        "    test_split = validate_split + 270\n",
        "    class_samples = {}\n",
        "    for c in chosen_classes.keys():\n",
        "        class_name = chosen_classes[c]\n",
        "        class_samples[class_name] = os.listdir(run_dir+\"/\"+class_name)\n",
        "        print(\"{} class {} samples\".format(len(class_samples[class_name]), class_name))\n",
        "\n",
        "        for i in range(0, train_split):\n",
        "            copyfile(run_dir+\"/\"+class_name+\"/\"+class_samples[class_name][i], run_dir+\"/train/\"+class_name+\"/\"+class_samples[class_name][i])\n",
        "\n",
        "        for i in range(train_split, validate_split):\n",
        "            copyfile(run_dir+\"/\"+class_name+\"/\"+class_samples[class_name][i], run_dir+\"/validate/\"+class_name+\"/\"+class_samples[class_name][i])\n",
        "\n",
        "        for i in range(validate_split, test_split):\n",
        "            copyfile(run_dir+\"/\"+class_name+\"/\"+class_samples[class_name][i], run_dir+\"/test/\"+class_name+\"/\"+class_samples[class_name][i])\n",
        "\n",
        "# run_dir is where data the may be manipulated during runtime is put\n",
        "run_dir = os.path.join(imagewoof_dir, \"run\")\n",
        "\n",
        "init_run()\n",
        "# drop_classes()\n",
        "# split_data()\n",
        "\n",
        "train_dir = os.path.join(run_dir, \"train\")\n",
        "validate_dir = os.path.join(run_dir, \"validate\")\n",
        "test_dir = os.path.join(run_dir, \"test\")"
      ],
      "metadata": {
        "id": "DrVKe11x2nkw"
      },
      "execution_count": null,
      "outputs": []
    },
    {
      "cell_type": "code",
      "source": [
        "# Data sanity tests\n",
        "# Get the total number of samples in train validate and test\n",
        "def get_n_samples():\n",
        "    ntrain_samples = 0\n",
        "    nvalidate_samples = 0\n",
        "    ntest_samples = 0 \n",
        "\n",
        "    for c in chosen_classes:\n",
        "        class_name = chosen_classes[c]\n",
        "        ntrain_samples += len(os.listdir(run_dir+\"/train/\"+class_name))\n",
        "        nvalidate_samples += len(os.listdir(run_dir+\"/validate/\"+class_name))\n",
        "        ntest_samples += len(os.listdir(run_dir+\"/test/\"+class_name))\n",
        "\n",
        "    print(\"Number of training samples = {}\\nNumber of validation samples = {}\\nNumber of testing samples = {}\\n\".format(ntrain_samples, nvalidate_samples, ntest_samples))\n",
        "\n",
        "# This function ensures that there were no errors in the data splitting such that an image is more than 1 set\n",
        "def build_sample_set(dir, s):\n",
        "    for sample in os.listdir(dir):\n",
        "        s.add(sample)\n",
        "\n",
        "# Use set operations to make sure there are no intersections between datasets\n",
        "def check_data_leaks():\n",
        "    train_samples = set()\n",
        "    validate_samples = set()\n",
        "    test_samples = set()\n",
        "\n",
        "    for c in chosen_classes:\n",
        "        class_name = chosen_classes[c]\n",
        "        build_sample_set(run_dir+\"/train/\"+class_name, train_samples)\n",
        "        build_sample_set(run_dir+\"/validate/\"+class_name, validate_samples)\n",
        "        build_sample_set(run_dir+\"/test/\"+class_name, test_samples)\n",
        "\n",
        "    print(\"Intersection between train and validate: {}\".format(not train_samples.isdisjoint(validate_samples)))\n",
        "    print(\"Intersection between train and test:     {}\".format(not train_samples.isdisjoint(test_samples)))\n",
        "    print(\"Intersection between test and validate:  {}\".format(not test_samples.isdisjoint(validate_samples)))\n",
        "\n",
        "# Should be 4050 train, 1350 validate, 1350 test\n",
        "get_n_samples()\n",
        "# If all are false then there are no interesections/data leaks\n",
        "check_data_leaks()"
      ],
      "metadata": {
        "colab": {
          "base_uri": "https://localhost:8080/"
        },
        "id": "3BmTAVyQ6Zai",
        "outputId": "8b6da11f-ec58-4bd3-99d5-6c5ad06e164d"
      },
      "execution_count": null,
      "outputs": [
        {
          "output_type": "stream",
          "name": "stdout",
          "text": [
            "Number of training samples = 4050\n",
            "Number of validation samples = 1350\n",
            "Number of testing samples = 1350\n",
            "\n",
            "Intersection between train and validate: False\n",
            "Intersection between train and test:     False\n",
            "Intersection between test and validate:  False\n"
          ]
        }
      ]
    },
    {
      "cell_type": "code",
      "source": [
        "# Imports required for core functionality\n",
        "from time import time\n",
        "import numpy as np\n",
        "import pandas as pd\n",
        "\n",
        "# Graphing tools\n",
        "import matplotlib.pyplot as plt\n",
        "from matplotlib.image import imread\n",
        "import seaborn as sns\n",
        "\n",
        "# Fine tuning components\n",
        "from tensorflow.keras.preprocessing.image import ImageDataGenerator\n",
        "from tensorflow.keras.models import Sequential\n",
        "from tensorflow.keras.layers import Dense, Dropout, Flatten\n",
        "from tensorflow.keras.utils import plot_model\n",
        "from tensorflow.keras.optimizers import Adam, SGD, RMSprop\n",
        "from keras import backend as K \n",
        "from tensorflow.keras import regularizers\n",
        "from tensorflow.keras.applications.inception_v3 import InceptionV3\n",
        "from tensorflow.keras.callbacks import EarlyStopping"
      ],
      "metadata": {
        "id": "tzghCp0-C6x3"
      },
      "execution_count": null,
      "outputs": []
    },
    {
      "cell_type": "code",
      "source": [
        "# Preprocess images and apply data augmentation to the train data\n",
        "# Transformations to be applied: rotation, shift, shear, zoom, horizontal flip\n",
        "def augment_train_data(target_size, batch_size, class_mode):\n",
        "    train_datagen = ImageDataGenerator(\n",
        "        rescale=1./255,\n",
        "        rotation_range=25,\n",
        "        height_shift_range=0.15,\n",
        "        width_shift_range=0.15,\n",
        "        horizontal_flip=True,\n",
        "        shear_range=0.2,\n",
        "        zoom_range=0.2,\n",
        "        fill_mode=\"nearest\"\n",
        "    )\n",
        "\n",
        "    train_gen = train_datagen.flow_from_directory(\n",
        "        train_dir,\n",
        "        target_size=target_size,\n",
        "        batch_size=batch_size,\n",
        "        class_mode=class_mode,\n",
        "    )\n",
        "\n",
        "    # No augmentation to be done to validation data\n",
        "    validate_datagen = ImageDataGenerator(rescale=1./255)\n",
        "    validate_gen = validate_datagen.flow_from_directory(\n",
        "        validate_dir,\n",
        "        target_size=target_size,\n",
        "        batch_size=batch_size,\n",
        "        class_mode=class_mode\n",
        "    )\n",
        "\n",
        "    return train_gen, validate_gen"
      ],
      "metadata": {
        "id": "CkoluCteAOp0"
      },
      "execution_count": null,
      "outputs": []
    },
    {
      "cell_type": "code",
      "source": [
        "# Takes in the convolutional base of a pretrained network, in this case InceptionV3\n",
        "def custom_model(conv_base):\n",
        "    model = Sequential()\n",
        "\n",
        "    model.add(conv_base)\n",
        "    model.add(Flatten())\n",
        "    model.add(Dropout(0.5))\n",
        "    model.add(Dense(256, activation=\"relu\"))\n",
        "\n",
        "    # Output layer uses softmax activation function because it is a multi-classification task\n",
        "    model.add(Dense(5, activation=\"softmax\"))\n",
        "\n",
        "    return model"
      ],
      "metadata": {
        "id": "FVFaJx1nGLsK"
      },
      "execution_count": null,
      "outputs": []
    },
    {
      "cell_type": "code",
      "source": [
        "# compile the model\n",
        "def compile_model(model, hyperparameters):\n",
        "    print(\"Compiling model\")\n",
        "    model.compile(loss=\"categorical_crossentropy\", optimizer=hyperparameters[\"optimizer\"], metrics=[\"accuracy\"])\n",
        "    print(\"Model compilation complete\")\n",
        "    return model"
      ],
      "metadata": {
        "id": "UVI4akEFIrUS"
      },
      "execution_count": null,
      "outputs": []
    },
    {
      "cell_type": "code",
      "source": [
        "# Train the model\n",
        "def train_model(compiled_model, train_gen, validate_gen, epochs, callbacks):\n",
        "    print(\"Training model...\")\n",
        "\n",
        "    t0 = time()\n",
        "    history = compiled_model.fit(\n",
        "        train_gen,\n",
        "        validation_data=validate_gen,\n",
        "        epochs=epochs,\n",
        "        callbacks=callbacks\n",
        "    )\n",
        "\n",
        "    print(\"Training took {} seconds\".format(int(time() - t0)))\n",
        "    return history"
      ],
      "metadata": {
        "id": "IS_fMKAfWrja"
      },
      "execution_count": null,
      "outputs": []
    },
    {
      "cell_type": "code",
      "source": [
        "# Implement transfer learing by apply fine-tuning approach\n",
        "def fine_tune_training(hyperparameters):\n",
        "    train_gen, val_gen = augment_train_data((299, 299), 32, \"categorical\")\n",
        "    # Initialise InceptionV3 network with weights trained on Imagenet. Don't include top as we will be adding our own\n",
        "    conv_base = InceptionV3(weights=\"imagenet\", include_top=False, input_shape=(299, 299, 3))\n",
        "    # print(\"Structure of Inception v3 convolutional base\")\n",
        "    # conv_base.summary()\n",
        "    \n",
        "    # Add custom layers to the top of the base\n",
        "    model = custom_model(conv_base)\n",
        "\n",
        "    # Freeze the InceptionV3 convolutional layers\n",
        "    conv_base.trainable = False\n",
        "\n",
        "    # Compile the model\n",
        "    model = compile_model(model, hyperparameters)\n",
        "\n",
        "    # Check model structure\n",
        "    model.summary()\n",
        "\n",
        "    \n",
        "    # Define early stopping callback\n",
        "    early_stopping = EarlyStopping(monitor=\"val_loss\", patience=3, restore_best_weights=True)\n",
        "\n",
        "    # Train the custom classifier\n",
        "    history1 = train_model(model, train_gen, val_gen, hyperparameters[\"feature_ex_epochs\"], [early_stopping])\n",
        "    plot_metrics(history1)\n",
        "\n",
        "    # Since the last 2 blocks are being tuned, freeze the first 8 blocks. There are 31 layers per block so freeze up until 31*8 = 248\n",
        "    conv_base.trainable = True\n",
        "    for l in conv_base.layers[0:249]:\n",
        "        l.trainable = False\n",
        "\n",
        "    # Compile the model again\n",
        "    model.compile(loss=\"categorical_crossentropy\", optimizer=hyperparameters[\"optimizer\"], metrics=[\"accuracy\"])\n",
        "    model.summary()\n",
        "    \n",
        "    # Train the model again, fine tuning the Inceptionv3 conv layers\n",
        "    history2 = train_model(model, train_gen, val_gen, hyperparameters[\"fine_tuning_epochs\"], [early_stopping])\n",
        "    plot_metrics(history2)\n",
        "\n",
        "    return model, history1, history2\n",
        "\n",
        "hyperparameters = {\n",
        "    \"feature_ex_epochs\": 5,\n",
        "    \"fine_tuning_epochs\": 40,\n",
        "    \"optimizer\": \"adam\",\n",
        "}\n",
        "\n",
        "model, h1, h2 = fine_tune_training(hyperparameters)"
      ],
      "metadata": {
        "colab": {
          "base_uri": "https://localhost:8080/",
          "height": 1000
        },
        "id": "F_rzyNf8JFNd",
        "outputId": "1c431916-8692-4968-bee6-4acdafa222df"
      },
      "execution_count": null,
      "outputs": [
        {
          "output_type": "stream",
          "name": "stdout",
          "text": [
            "Found 4050 images belonging to 5 classes.\n",
            "Found 1350 images belonging to 5 classes.\n",
            "Compiling model\n",
            "Model compilation complete\n",
            "Model: \"sequential_11\"\n",
            "_________________________________________________________________\n",
            " Layer (type)                Output Shape              Param #   \n",
            "=================================================================\n",
            " inception_v3 (Functional)   (None, 8, 8, 2048)        21802784  \n",
            "                                                                 \n",
            " flatten_10 (Flatten)        (None, 131072)            0         \n",
            "                                                                 \n",
            " dropout_10 (Dropout)        (None, 131072)            0         \n",
            "                                                                 \n",
            " dense_20 (Dense)            (None, 256)               33554688  \n",
            "                                                                 \n",
            " dense_21 (Dense)            (None, 5)                 1285      \n",
            "                                                                 \n",
            "=================================================================\n",
            "Total params: 55,358,757\n",
            "Trainable params: 33,555,973\n",
            "Non-trainable params: 21,802,784\n",
            "_________________________________________________________________\n",
            "Training model...\n",
            "Epoch 1/5\n",
            "127/127 [==============================] - 105s 797ms/step - loss: 2.1588 - accuracy: 0.9274 - val_loss: 0.6101 - val_accuracy: 0.9733\n",
            "Epoch 2/5\n",
            "127/127 [==============================] - 100s 783ms/step - loss: 0.8648 - accuracy: 0.9669 - val_loss: 0.2795 - val_accuracy: 0.9852\n",
            "Epoch 3/5\n",
            "127/127 [==============================] - 99s 782ms/step - loss: 0.4200 - accuracy: 0.9684 - val_loss: 0.2592 - val_accuracy: 0.9800\n",
            "Epoch 4/5\n",
            "127/127 [==============================] - 99s 780ms/step - loss: 0.2802 - accuracy: 0.9760 - val_loss: 0.2182 - val_accuracy: 0.9807\n",
            "Epoch 5/5\n",
            "127/127 [==============================] - 99s 776ms/step - loss: 0.2358 - accuracy: 0.9728 - val_loss: 0.1821 - val_accuracy: 0.9822\n",
            "Training took 502 seconds\n",
            "       loss  accuracy  val_loss  val_accuracy\n",
            "0  2.158797  0.927407  0.610067      0.973333\n",
            "1  0.864846  0.966914  0.279543      0.985185\n",
            "2  0.419994  0.968395  0.259172      0.980000\n",
            "3  0.280214  0.976049  0.218152      0.980741\n",
            "4  0.235768  0.972840  0.182098      0.982222\n",
            "\n",
            "Final validation accuracy: 0.9822\n",
            "Final validation loss:     0.1821\n",
            "\n",
            "Model: \"sequential_11\"\n",
            "_________________________________________________________________\n",
            " Layer (type)                Output Shape              Param #   \n",
            "=================================================================\n",
            " inception_v3 (Functional)   (None, 8, 8, 2048)        21802784  \n",
            "                                                                 \n",
            " flatten_10 (Flatten)        (None, 131072)            0         \n",
            "                                                                 \n",
            " dropout_10 (Dropout)        (None, 131072)            0         \n",
            "                                                                 \n",
            " dense_20 (Dense)            (None, 256)               33554688  \n",
            "                                                                 \n",
            " dense_21 (Dense)            (None, 5)                 1285      \n",
            "                                                                 \n",
            "=================================================================\n",
            "Total params: 55,358,757\n",
            "Trainable params: 44,670,853\n",
            "Non-trainable params: 10,687,904\n",
            "_________________________________________________________________\n",
            "Training model...\n",
            "Epoch 1/40\n",
            "127/127 [==============================] - 107s 806ms/step - loss: 0.5964 - accuracy: 0.9015 - val_loss: 0.8050 - val_accuracy: 0.9281\n",
            "Epoch 2/40\n",
            "127/127 [==============================] - 100s 786ms/step - loss: 0.2289 - accuracy: 0.9417 - val_loss: 0.2970 - val_accuracy: 0.9533\n",
            "Epoch 3/40\n",
            "127/127 [==============================] - 100s 785ms/step - loss: 0.1666 - accuracy: 0.9499 - val_loss: 0.1555 - val_accuracy: 0.9711\n",
            "Epoch 4/40\n",
            "127/127 [==============================] - 101s 793ms/step - loss: 0.0946 - accuracy: 0.9711 - val_loss: 0.1158 - val_accuracy: 0.9704\n",
            "Epoch 5/40\n",
            "127/127 [==============================] - 101s 794ms/step - loss: 0.0908 - accuracy: 0.9726 - val_loss: 0.1868 - val_accuracy: 0.9533\n",
            "Epoch 6/40\n",
            "127/127 [==============================] - 101s 795ms/step - loss: 0.1941 - accuracy: 0.9662 - val_loss: 0.3305 - val_accuracy: 0.9289\n",
            "Epoch 7/40\n",
            "127/127 [==============================] - 101s 799ms/step - loss: 0.0945 - accuracy: 0.9686 - val_loss: 0.1492 - val_accuracy: 0.9644\n",
            "Training took 711 seconds\n",
            "       loss  accuracy  val_loss  val_accuracy\n",
            "0  0.596380  0.901482  0.804985      0.928148\n",
            "1  0.228934  0.941728  0.296954      0.953333\n",
            "2  0.166602  0.949877  0.155548      0.971111\n",
            "3  0.094621  0.971111  0.115835      0.970370\n",
            "4  0.090812  0.972593  0.186777      0.953333\n",
            "5  0.194108  0.966173  0.330472      0.928889\n",
            "6  0.094533  0.968642  0.149213      0.964444\n",
            "\n",
            "Final validation accuracy: 0.9644\n",
            "Final validation loss:     0.1492\n",
            "\n"
          ]
        },
        {
          "output_type": "display_data",
          "data": {
            "text/plain": [
              "<Figure size 432x288 with 1 Axes>"
            ],
            "image/png": "[encoded data removed]"
          },
          "metadata": {
            "needs_background": "light"
          }
        },
        {
          "output_type": "display_data",
          "data": {
            "text/plain": [
              "<Figure size 432x288 with 1 Axes>"
            ],
            "image/png": "[encoded data removed]"
          },
          "metadata": {
            "needs_background": "light"
          }
        },
        {
          "output_type": "display_data",
          "data": {
            "text/plain": [
              "<Figure size 432x288 with 1 Axes>"
            ],
            "image/png": "[encoded data removed]"
          },
          "metadata": {
            "needs_background": "light"
          }
        },
        {
          "output_type": "display_data",
          "data": {
            "text/plain": [
              "<Figure size 432x288 with 1 Axes>"
            ],
            "image/png": "[encoded data removed]"
          },
          "metadata": {
            "needs_background": "light"
          }
        }
      ]
    },
    {
      "cell_type": "code",
      "source": [
        "def plot_metrics(history):\n",
        "    validation_metrics = pd.DataFrame(history.history)\n",
        "    print(validation_metrics)\n",
        "    print()\n",
        "    validation_metrics[[\"accuracy\", \"val_accuracy\"]].plot(xlabel=\"epochs\", ylabel=\"accuracy\").legend([\"Train accuracy\", \"Val accuracy\"])\n",
        "    validation_metrics[[\"loss\", \"val_loss\"]].plot(xlabel=\"epochs\", ylabel=\"loss\").legend([\"Train loss\", \"Val loss\"])\n",
        "    final_val_acc = validation_metrics.at[len(validation_metrics[[\"accuracy\", \"val_accuracy\"]]) -1, \"val_accuracy\"]\n",
        "    final_val_loss = validation_metrics.at[len(validation_metrics[[\"loss\", \"val_loss\"]]) -1, \"val_loss\"]\n",
        "    print(\"Final validation accuracy: {:.4f}\".format(final_val_acc))\n",
        "    print(\"Final validation loss:     {:.4f}\".format(final_val_loss))\n",
        "    print()\n",
        "\n",
        "#plot_metrics(history1)"
      ],
      "metadata": {
        "id": "xD37iif6Xdv0"
      },
      "execution_count": null,
      "outputs": []
    },
    {
      "cell_type": "code",
      "source": [
        "# Do final evaluation of the model using holdout test data\n",
        "test_datagen = ImageDataGenerator(rescale=1./255)\n",
        "\n",
        "test_generator = test_datagen.flow_from_directory(\n",
        "    test_dir,\n",
        "    target_size=(299, 299),\n",
        "    batch_size=32,\n",
        "    class_mode=\"categorical\"\n",
        ")\n",
        "\n",
        "test_metrics = model.evaluate(test_generator)\n",
        "print(\"Final test accuracy: {:.4f}\".format(test_metrics[1]))\n",
        "print(\"Final test loss: {:.2f}\".format(test_metrics[0]))"
      ],
      "metadata": {
        "colab": {
          "base_uri": "https://localhost:8080/"
        },
        "id": "0cOl0QFbalXN",
        "outputId": "c1801350-57db-4705-d1cc-5887a0323cf4"
      },
      "execution_count": null,
      "outputs": [
        {
          "output_type": "stream",
          "name": "stdout",
          "text": [
            "Found 1350 images belonging to 5 classes.\n",
            "43/43 [==============================] - 8s 188ms/step - loss: 0.0980 - accuracy: 0.9726\n",
            "Final test accuracy: 0.9726\n",
            "Final test loss: 0.10\n"
          ]
        }
      ]
    },
    {
      "cell_type": "code",
      "source": [
        "# Get confusion matrix\n",
        "from sklearn.metrics import confusion_matrix, classification_report\n",
        "pred = model.predict(test_generator)\n",
        "predictions = np.argmax(pred, axis=1)\n",
        "print(\"Confusion matrix: \")\n",
        "confusion_matrix(test_generator.classes, predictions)"
      ],
      "metadata": {
        "colab": {
          "base_uri": "https://localhost:8080/"
        },
        "id": "xxUmXiSeM9FO",
        "outputId": "56e744e2-a9bf-4875-f8d5-e8f17bd26047"
      },
      "execution_count": null,
      "outputs": [
        {
          "output_type": "stream",
          "name": "stdout",
          "text": [
            "Confusion matrix: \n"
          ]
        },
        {
          "output_type": "execute_result",
          "data": {
            "text/plain": [
              "array([[45, 56, 51, 61, 57],\n",
              "       [57, 44, 66, 52, 51],\n",
              "       [53, 55, 48, 62, 52],\n",
              "       [45, 51, 61, 45, 68],\n",
              "       [59, 65, 54, 48, 44]])"
            ]
          },
          "metadata": {},
          "execution_count": 40
        }
      ]
    },
    {
      "cell_type": "code",
      "source": [
        "model.save(\"2b-dog_breed_fine_tuning.h5\")"
      ],
      "metadata": {
        "id": "GrsTrIIRIIOq"
      },
      "execution_count": null,
      "outputs": []
    },
    {
      "cell_type": "code",
      "source": [
        "from sklearn import preprocessing\n",
        "from tensorflow.keras.models import load_model\n",
        "from tensorflow.keras.preprocessing import image\n",
        "# Classify image located in image_path with given model\n",
        "def classify_image(model, image_path):\n",
        "    print(\"Classifying image {}\".format(image_path))\n",
        "    img = image.load_img(image_path, target_size=(299, 299))\n",
        "    # Convert image to numpy array\n",
        "    img_array = image.img_to_array(img)\n",
        "    print(\"Shape: {}\".format(img_array.shape))\n",
        "    # Expand and rescale image array\n",
        "    img_array = np.expand_dims(img_array, axis=0)\n",
        "    img_array = np.array(img_array).astype('float32')/255\n",
        "    print(\"Expanded Shape: {}\".format(img_array.shape))\n",
        "    # Make prediciton and display class\n",
        "    class_names = [\"beagle\", \"border_terrier\", \"dingo\", \"golden_retriever\",  \"samoyed\", ]\n",
        "    predicted_class = model.predict(img_array)\n",
        "    print(\"Predicition: {}\".format(class_names[np.argmax(predicted_class)]))\n",
        "\n",
        "data_dir = os.path.join(working_dir, \"data\")\n",
        "# model = load_model(data_dir+\"/2b-dog_breed_fine_tuning.h5\")\n",
        "classify_image(model, data_dir+\"/samoyed-1.jpg\")\n",
        "print()\n",
        "classify_image(model, data_dir+\"/retreiver-1.jpg\")\n",
        "print()\n",
        "classify_image(model, data_dir+\"/dingo-1.jpg\")\n",
        "print()\n",
        "classify_image(model, data_dir+\"/Beagle_1.jpg\")\n",
        "print()\n",
        "classify_image(model, data_dir+\"/terrier-1.jpg\")\n",
        "print()\n",
        "classify_image(model, data_dir+\"/samoyed-2.jpg\")\n",
        "print()\n",
        "classify_image(model, data_dir+\"/terrier-2.jpg\")\n",
        "print()\n",
        "classify_image(model, data_dir+\"/retreiver-2.jpg\")\n",
        "print()\n",
        "classify_image(model, data_dir+\"/samoyed-3.jpg\")\n",
        "print()\n",
        "classify_image(model, data_dir+\"/terrier-3.jpg\")\n",
        "print()\n",
        "classify_image(model, data_dir+\"/retreiver-3.jpg\")"
      ],
      "metadata": {
        "colab": {
          "base_uri": "https://localhost:8080/"
        },
        "id": "pNXp0BiuIxMv",
        "outputId": "14c9eaad-7f60-4318-c45d-f1da6336e5f7"
      },
      "execution_count": null,
      "outputs": [
        {
          "output_type": "stream",
          "name": "stdout",
          "text": [
            "Classifying image /content/drive/MyDrive/Colab Notebooks/data/samoyed-1.jpg\n",
            "Shape: (299, 299, 3)\n",
            "Expanded Shape: (1, 299, 299, 3)\n",
            "Predicition: samoyed\n",
            "\n",
            "Classifying image /content/drive/MyDrive/Colab Notebooks/data/retreiver-1.jpg\n",
            "Shape: (299, 299, 3)\n",
            "Expanded Shape: (1, 299, 299, 3)\n",
            "Predicition: golden_retriever\n",
            "\n",
            "Classifying image /content/drive/MyDrive/Colab Notebooks/data/dingo-1.jpg\n",
            "Shape: (299, 299, 3)\n",
            "Expanded Shape: (1, 299, 299, 3)\n",
            "Predicition: dingo\n",
            "\n",
            "Classifying image /content/drive/MyDrive/Colab Notebooks/data/Beagle_1.jpg\n",
            "Shape: (299, 299, 3)\n",
            "Expanded Shape: (1, 299, 299, 3)\n",
            "Predicition: beagle\n",
            "\n",
            "Classifying image /content/drive/MyDrive/Colab Notebooks/data/terrier-1.jpg\n",
            "Shape: (299, 299, 3)\n",
            "Expanded Shape: (1, 299, 299, 3)\n",
            "Predicition: border_terrier\n",
            "\n",
            "Classifying image /content/drive/MyDrive/Colab Notebooks/data/samoyed-2.jpg\n",
            "Shape: (299, 299, 3)\n",
            "Expanded Shape: (1, 299, 299, 3)\n",
            "Predicition: samoyed\n",
            "\n",
            "Classifying image /content/drive/MyDrive/Colab Notebooks/data/terrier-2.jpg\n",
            "Shape: (299, 299, 3)\n",
            "Expanded Shape: (1, 299, 299, 3)\n",
            "Predicition: border_terrier\n",
            "\n",
            "Classifying image /content/drive/MyDrive/Colab Notebooks/data/retreiver-2.jpg\n",
            "Shape: (299, 299, 3)\n",
            "Expanded Shape: (1, 299, 299, 3)\n",
            "Predicition: golden_retriever\n",
            "\n",
            "Classifying image /content/drive/MyDrive/Colab Notebooks/data/samoyed-3.jpg\n",
            "Shape: (299, 299, 3)\n",
            "Expanded Shape: (1, 299, 299, 3)\n",
            "Predicition: samoyed\n",
            "\n",
            "Classifying image /content/drive/MyDrive/Colab Notebooks/data/terrier-3.jpg\n",
            "Shape: (299, 299, 3)\n",
            "Expanded Shape: (1, 299, 299, 3)\n",
            "Predicition: border_terrier\n",
            "\n",
            "Classifying image /content/drive/MyDrive/Colab Notebooks/data/retreiver-3.jpg\n",
            "Shape: (299, 299, 3)\n",
            "Expanded Shape: (1, 299, 299, 3)\n",
            "Predicition: golden_retriever\n"
          ]
        }
      ]
    }
  ]
}