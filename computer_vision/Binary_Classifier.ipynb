{
  "nbformat": 4,
  "nbformat_minor": 0,
  "metadata": {
    "colab": {
      "provenance": []
    },
    "kernelspec": {
      "name": "python3",
      "display_name": "Python 3"
    },
    "language_info": {
      "name": "python"
    },
    "accelerator": "GPU"
  },
  "cells": [
    {
      "cell_type": "code",
      "source": [
        "#tar -xvf  '/content/gdrive/MyDrive/EE544(Computer-Vision)/Colab Notebooks/data/imagenette2-320.tgz' -C '/content/gdrive/MyDrive/EE544(Computer-Vision)/Colab Notebooks/data/'"
      ],
      "metadata": {
        "id": "7XoCvbBHHunx"
      },
      "execution_count": null,
      "outputs": []
    },
    {
      "cell_type": "code",
      "source": [
        "!tree -d drive/MyDrive/'Colab Notebooks'/data/imagenette2-320/run"
      ],
      "metadata": {
        "colab": {
          "base_uri": "https://localhost:8080/"
        },
        "id": "HSld6Qa-T01q",
        "outputId": "561a7f7c-eb50-4b41-e558-ce90f10b283b"
      },
      "execution_count": null,
      "outputs": [
        {
          "output_type": "stream",
          "name": "stdout",
          "text": [
            "drive/MyDrive/Colab Notebooks/data/imagenette2-320/run\n",
            "├── cathedral\n",
            "├── golf_ball\n",
            "├── test\n",
            "│   ├── cathedral\n",
            "│   └── golf_ball\n",
            "├── train\n",
            "│   ├── cathedral\n",
            "│   └── golf_ball\n",
            "└── validate\n",
            "    ├── cathedral\n",
            "    └── golf_ball\n",
            "\n",
            "11 directories\n"
          ]
        }
      ]
    },
    {
      "cell_type": "code",
      "source": [
        "# Mount google drive and define locations of original, unmodified imagenette data\n",
        "from google.colab import drive, files\n",
        "import os\n",
        "\n",
        "drive.mount(\"/content/drive\", force_remount=True)\n",
        "working_dir = \"/content/drive/MyDrive/Colab Notebooks/\"\n",
        "\n",
        "imagenette_dir = os.path.join(working_dir, \"data/imagenette2-320\")\n",
        "original_train_dir = os.path.join(imagenette_dir, \"train\")\n",
        "original_test_dir = os.path.join(imagenette_dir, \"val\")\n"
      ],
      "metadata": {
        "colab": {
          "base_uri": "https://localhost:8080/"
        },
        "id": "LYOUp6ChF2r4",
        "outputId": "3629948d-8fd3-4323-ccc2-3f5da20867f5"
      },
      "execution_count": null,
      "outputs": [
        {
          "output_type": "stream",
          "name": "stdout",
          "text": [
            "Mounted at /content/drive\n"
          ]
        }
      ]
    },
    {
      "cell_type": "code",
      "source": [
        "from pathlib import Path\n",
        "from shutil import copyfile\n",
        "from distutils.dir_util import copy_tree # import necessary to circumvent issues with using shutils.copytree in Python v3.6\n",
        "\n",
        "# Create 2 class folders that will contain all instances of their respective class\n",
        "# Create 3 directories for train validate and test data\n",
        "def init_run():\n",
        "    Path(run_dir+\"/cathedral\").mkdir(parents=True, exist_ok=True)\n",
        "    Path(run_dir+\"/golf_ball\").mkdir(parents=True, exist_ok=True)\n",
        "\n",
        "    Path(run_dir+\"/train\").mkdir(parents=True, exist_ok=True)\n",
        "    Path(run_dir+\"/train/cathedral\").mkdir(parents=True, exist_ok=True)\n",
        "    Path(run_dir+\"/train/golf_ball\").mkdir(parents=True, exist_ok=True)\n",
        "\n",
        "    Path(run_dir+\"/validate\").mkdir(parents=True, exist_ok=True)\n",
        "    Path(run_dir+\"/validate/cathedral\").mkdir(parents=True, exist_ok=True)\n",
        "    Path(run_dir+\"/validate/golf_ball\").mkdir(parents=True, exist_ok=True)\n",
        "\n",
        "    Path(run_dir+\"/test\").mkdir(parents=True, exist_ok=True)\n",
        "    Path(run_dir+\"/test/cathedral\").mkdir(parents=True, exist_ok=True)\n",
        "    Path(run_dir+\"/test/golf_ball\").mkdir(parents=True, exist_ok=True)\n",
        "\n",
        "# Only copy the classes to be used in the model to the run directory\n",
        "def drop_classes():\n",
        "    try:\n",
        "        # Copy all images in train/n03028079 and val/n03028079 to cathedral dir\n",
        "        copy_tree(original_train_dir+\"/n03028079\", run_dir+\"/cathedral\")\n",
        "        copy_tree(original_test_dir+\"/n03028079\", run_dir+\"/cathedral\")\n",
        "\n",
        "        # Copy all images in train/n03445777 and val/n03445777 to golf_ball dir\n",
        "        copy_tree(original_train_dir+\"/n03445777\", run_dir+\"/golf_ball\")\n",
        "        copy_tree(original_test_dir+\"/n03445777\", run_dir+\"/golf_ball\")\n",
        "    \n",
        "    except Exception as e:\n",
        "        print(e)\n",
        "\n",
        "# Get a portion of data from each of the classes and put it the the appropriate dir\n",
        "# Prior testing shows that the classes are perfectly balanced meaning that we can allocate the same number of each class to train validate and test dirs\n",
        "def split_data():\n",
        "    train_split = 945\n",
        "    validate_split = train_split + 202\n",
        "    test_split = validate_split + 203\n",
        "    c1_samples = os.listdir(run_dir+\"/cathedral\")\n",
        "    c2_samples = os.listdir(run_dir+\"/golf_ball\")\n",
        "    c1_n_samples = len(c1_samples)\n",
        "    c2_n_samples = len(c2_samples)\n",
        "    print(\"{} class 1 samples\".format(c1_samples))\n",
        "    print(\"{} class 2 samples\".format(c2_samples))\n",
        "\n",
        "    for i in range(0, train_split):\n",
        "        copyfile(run_dir+\"/cathedral/\"+c1_samples[i], run_dir+\"/train/cathedral/\"+c1_samples[i])\n",
        "        copyfile(run_dir+\"/golf_ball/\"+c2_samples[i], run_dir+\"/train/golf_ball/\"+c2_samples[i])\n",
        "\n",
        "    for i in range(train_split, validate_split):\n",
        "        copyfile(run_dir+\"/cathedral/\"+c1_samples[i], run_dir+\"/validate/cathedral/\"+c1_samples[i])\n",
        "        copyfile(run_dir+\"/golf_ball/\"+c2_samples[i], run_dir+\"/validate/golf_ball/\"+c2_samples[i])\n",
        "\n",
        "    for i in range(validate_split, test_split):\n",
        "        copyfile(run_dir+\"/cathedral/\"+c1_samples[i], run_dir+\"/test/cathedral/\"+c1_samples[i])\n",
        "        copyfile(run_dir+\"/golf_ball/\"+c2_samples[i], run_dir+\"/test/golf_ball/\"+c2_samples[i])\n",
        "\n",
        "# run_dir is where data the may be manipulated during runtime is put\n",
        "run_dir = os.path.join(imagenette_dir, \"run\")\n",
        "train_dir = os.path.join(run_dir, \"train\")\n",
        "validate_dir = os.path.join(run_dir, \"validate\")\n",
        "test_dir = os.path.join(run_dir, \"test\")\n",
        "\n",
        "init_run()\n",
        "# drop_classes()\n",
        "# split_data()"
      ],
      "metadata": {
        "id": "jKH1htqfcJ1X"
      },
      "execution_count": null,
      "outputs": []
    },
    {
      "cell_type": "code",
      "source": [
        "train_samples = len(os.listdir(run_dir+\"/train/cathedral\")) + len(os.listdir(run_dir+\"/train/golf_ball\"))\n",
        "validate_samples = len(os.listdir(run_dir+\"/validate/cathedral\")) + len(os.listdir(run_dir+\"/validate/golf_ball\"))\n",
        "test_samples = len(os.listdir(run_dir+\"/test/cathedral\")) + len(os.listdir(run_dir+\"/test/golf_ball\"))\n",
        "\n",
        "print(\"Number of training samples = {}\\nNumber of validation samples = {}\\nNumber of testing samples = {}\\n\".format(train_samples, validate_samples, test_samples))"
      ],
      "metadata": {
        "colab": {
          "base_uri": "https://localhost:8080/"
        },
        "id": "hNwh6EWRdqyE",
        "outputId": "55dc3c5d-5bc9-479f-f2d3-ab70fff9eaa9"
      },
      "execution_count": null,
      "outputs": [
        {
          "output_type": "stream",
          "name": "stdout",
          "text": [
            "Number of training samples = 1890\n",
            "Number of validation samples = 404\n",
            "Number of testing samples = 406\n",
            "\n"
          ]
        }
      ]
    },
    {
      "cell_type": "code",
      "source": [
        "# This function ensures that there were no errors in the data splitting such that an image is more than 1 set\n",
        "def build_sample_set(dir, s):\n",
        "    for sample in os.listdir(dir):\n",
        "        s.add(sample)\n",
        "\n",
        "# Use set operations to make sure there are no intersections between datasets\n",
        "def check_data_leaks():\n",
        "    train_samples = set()\n",
        "    validate_samples = set()\n",
        "    test_samples = set()\n",
        "\n",
        "    build_sample_set(run_dir+\"/train/cathedral\", train_samples)\n",
        "    build_sample_set(run_dir+\"/train/golf_ball\", train_samples)\n",
        "\n",
        "    build_sample_set(run_dir+\"/validate/cathedral\", validate_samples)\n",
        "    build_sample_set(run_dir+\"/validate/golf_ball\", validate_samples)\n",
        "\n",
        "    build_sample_set(run_dir+\"/test/cathedral\", test_samples)\n",
        "    build_sample_set(run_dir+\"/test/golf_ball\", test_samples)\n",
        "\n",
        "    print(\"Intersection between train and validate: {}\".format(not train_samples.isdisjoint(validate_samples)))\n",
        "    print(\"Intersection between train and test:     {}\".format(not train_samples.isdisjoint(test_samples)))\n",
        "    print(\"Intersection between test and validate:  {}\".format(not test_samples.isdisjoint(validate_samples)))\n",
        "\n",
        "# If all are false then there are no interesections/data leaks\n",
        "check_data_leaks()"
      ],
      "metadata": {
        "colab": {
          "base_uri": "https://localhost:8080/"
        },
        "id": "dNBvK7oGXDIt",
        "outputId": "42b55eee-d006-4509-dace-c724bc53d0aa"
      },
      "execution_count": null,
      "outputs": [
        {
          "output_type": "stream",
          "name": "stdout",
          "text": [
            "Intersection between train and validate: False\n",
            "Intersection between train and test:     False\n",
            "Intersection between test and validate:  False\n"
          ]
        }
      ]
    },
    {
      "cell_type": "code",
      "source": [
        "# Imports required for core functionality\n",
        "from time import time\n",
        "import numpy as np\n",
        "import pandas as pd\n",
        "\n",
        "# Graphing tools\n",
        "import matplotlib.pyplot as plt\n",
        "from matplotlib.image import imread\n",
        "import seaborn as sns\n",
        "\n",
        "# CNN components\n",
        "from tensorflow.keras.preprocessing.image import ImageDataGenerator\n",
        "from tensorflow.keras.models import Sequential\n",
        "from tensorflow.keras.layers import Dense, Conv2D, MaxPooling2D, Flatten, Dropout\n",
        "from tensorflow.keras.utils import plot_model\n",
        "from tensorflow.keras.optimizers import Adam, SGD, RMSprop\n",
        "from keras import backend as K \n",
        "from tensorflow.keras import regularizers\n",
        "from tensorflow.keras.callbacks import EarlyStopping"
      ],
      "metadata": {
        "id": "c7hmlIYRljWQ"
      },
      "execution_count": null,
      "outputs": []
    },
    {
      "cell_type": "code",
      "source": [
        "# Preprocess images to use in the CNN\n",
        "def stage_train_data(target_size, batch_size, class_mode):\n",
        "    train_datagen = ImageDataGenerator(rescale=1./255)\n",
        "    validate_datagen = ImageDataGenerator(rescale=1./255)\n",
        "\n",
        "    train_gen = train_datagen.flow_from_directory(\n",
        "        train_dir,\n",
        "        target_size=target_size,\n",
        "        batch_size=batch_size,\n",
        "        class_mode=class_mode\n",
        "    )\n",
        "\n",
        "    validate_gen = validate_datagen.flow_from_directory(\n",
        "        validate_dir,\n",
        "        target_size=target_size,\n",
        "        batch_size=batch_size,\n",
        "        class_mode=class_mode\n",
        "    )\n",
        "\n",
        "    return train_gen, validate_gen"
      ],
      "metadata": {
        "id": "LPrngaoa6EFz"
      },
      "execution_count": null,
      "outputs": []
    },
    {
      "cell_type": "code",
      "source": [
        "# Preprocess images and apply data augmentation to the train data\n",
        "# Transformations to be applied: rotation, shift, shear, zoom, horizontal flip\n",
        "def augment_train_data(target_size, batch_size, class_mode):\n",
        "    train_datagen = ImageDataGenerator(\n",
        "        rescale=1./255,\n",
        "        rotation_range=25,\n",
        "        height_shift_range=0.15,\n",
        "        width_shift_range=0.15,\n",
        "        horizontal_flip=True,\n",
        "        shear_range=0.2,\n",
        "        zoom_range=0.2,\n",
        "        fill_mode=\"nearest\"\n",
        "    )\n",
        "\n",
        "    train_gen = train_datagen.flow_from_directory(\n",
        "        train_dir,\n",
        "        target_size=target_size,\n",
        "        batch_size=batch_size,\n",
        "        class_mode=class_mode,\n",
        "        \n",
        "    )\n",
        "\n",
        "    # No augmentation to be done to validation data\n",
        "    validate_datagen = ImageDataGenerator(rescale=1./255)\n",
        "    validate_gen = validate_datagen.flow_from_directory(\n",
        "        validate_dir,\n",
        "        target_size=target_size,\n",
        "        batch_size=batch_size,\n",
        "        class_mode=class_mode\n",
        "    )\n",
        "\n",
        "    return train_gen, validate_gen"
      ],
      "metadata": {
        "id": "DdOHh1Wlq-1h"
      },
      "execution_count": null,
      "outputs": []
    },
    {
      "cell_type": "code",
      "source": [
        "def baseline_cnn_model(hyperparameters):\n",
        "    model = Sequential()\n",
        "    # Input Layer\n",
        "    model.add(Conv2D(\n",
        "        32, \n",
        "        (3, 3), \n",
        "        activation=\"relu\", \n",
        "        strides=hyperparameters[\"strides\"], \n",
        "        dilation_rate=hyperparameters[\"dialation_rate\"], \n",
        "        input_shape=(150, 150, 3)\n",
        "        ))\n",
        "\n",
        "    # Hidden Layers\n",
        "    model.add(MaxPooling2D((2, 2)))\n",
        "    model.add(Conv2D(64, (3, 3), activation=\"relu\", strides=(1, 1), dilation_rate=1,))\n",
        "    model.add(MaxPooling2D((2, 2)))\n",
        "    model.add(Conv2D(128, (3, 3), activation=\"relu\", strides=(1, 1), dilation_rate=1,))\n",
        "    model.add(MaxPooling2D((2, 2)))\n",
        "    model.add(Conv2D(128, (3, 3), activation=\"relu\", strides=(1, 1), dilation_rate=1,))\n",
        "    model.add(MaxPooling2D((2, 2)))\n",
        "\n",
        "    model.add(Flatten())\n",
        "    model.add(Dense(512, activation=\"relu\"))\n",
        "    # Output Layer\n",
        "    model.add(Dense(1, activation=\"sigmoid\"))\n",
        "\n",
        "    return model"
      ],
      "metadata": {
        "id": "-EfcxgJBM749"
      },
      "execution_count": null,
      "outputs": []
    },
    {
      "cell_type": "code",
      "source": [
        "def improved_cnn_model(hyperparameters):\n",
        "    model = Sequential()\n",
        "    # Input Layer\n",
        "    model.add(Conv2D(\n",
        "        32, \n",
        "        (3, 3), \n",
        "        activation=\"relu\", \n",
        "        strides=hyperparameters[\"strides\"], \n",
        "        dilation_rate=hyperparameters[\"dialation_rate\"],\n",
        "        padding=\"same\",\n",
        "        input_shape=(150, 150, 3)\n",
        "        ))\n",
        "\n",
        "    # Hidden Layers\n",
        "    model.add(MaxPooling2D((2, 2)))\n",
        "    model.add(Dropout(0.25))\n",
        "    \n",
        "    model.add(Conv2D(64, (3, 3), activation=\"relu\", strides=(1, 1), dilation_rate=1, padding=\"same\"))\n",
        "    model.add(MaxPooling2D((2, 2)))\n",
        "    model.add(Dropout(0.25))\n",
        "\n",
        "    model.add(Conv2D(128, (3, 3), activation=\"relu\", strides=(1, 1), dilation_rate=1, padding=\"same\"))\n",
        "    model.add(MaxPooling2D((2, 2)))\n",
        "    model.add(Dropout(0.25))\n",
        "\n",
        "    model.add(Conv2D(128, (3, 3), activation=\"relu\", strides=(1, 1), dilation_rate=1, padding=\"same\"))\n",
        "    model.add(MaxPooling2D((2, 2)))\n",
        "    model.add(Dropout(0.25))\n",
        "\n",
        "    model.add(Flatten())\n",
        "\n",
        "    model.add(Dropout(0.5))\n",
        "    model.add(Dense(512, activation=\"relu\"))\n",
        "    # Output Layer\n",
        "    model.add(Dense(1, activation=\"sigmoid\"))\n",
        "\n",
        "    return model"
      ],
      "metadata": {
        "id": "53HyxRW43qYc"
      },
      "execution_count": null,
      "outputs": []
    },
    {
      "cell_type": "code",
      "source": [
        "# Show summary of model and plot model structure\n",
        "def show_model(model):\n",
        "    K.clear_session()\n",
        "    print(model.summary(line_length=100))\n",
        "    plot_model(model, \"baseline-model.png\", show_shapes=True, show_layer_names=True)\n",
        "\n",
        "test_hparams = {\n",
        "    \"dialation_rate\": 1,\n",
        "    \"strides\": (1, 1)\n",
        "}\n",
        "\n",
        "test_model = baseline_cnn_model(test_hparams)\n",
        "show_model(test_model)"
      ],
      "metadata": {
        "colab": {
          "base_uri": "https://localhost:8080/"
        },
        "id": "wYsYddheTKx2",
        "outputId": "c266a4cf-2771-4208-e94c-e3398d8b6059"
      },
      "execution_count": null,
      "outputs": [
        {
          "output_type": "stream",
          "name": "stdout",
          "text": [
            "Model: \"sequential\"\n",
            "____________________________________________________________________________________________________\n",
            " Layer (type)                                Output Shape                            Param #        \n",
            "====================================================================================================\n",
            " conv2d (Conv2D)                             (None, 148, 148, 32)                    896            \n",
            "                                                                                                    \n",
            " max_pooling2d (MaxPooling2D)                (None, 74, 74, 32)                      0              \n",
            "                                                                                                    \n",
            " conv2d_1 (Conv2D)                           (None, 72, 72, 64)                      18496          \n",
            "                                                                                                    \n",
            " max_pooling2d_1 (MaxPooling2D)              (None, 36, 36, 64)                      0              \n",
            "                                                                                                    \n",
            " conv2d_2 (Conv2D)                           (None, 34, 34, 128)                     73856          \n",
            "                                                                                                    \n",
            " max_pooling2d_2 (MaxPooling2D)              (None, 17, 17, 128)                     0              \n",
            "                                                                                                    \n",
            " conv2d_3 (Conv2D)                           (None, 15, 15, 128)                     147584         \n",
            "                                                                                                    \n",
            " max_pooling2d_3 (MaxPooling2D)              (None, 7, 7, 128)                       0              \n",
            "                                                                                                    \n",
            " flatten (Flatten)                           (None, 6272)                            0              \n",
            "                                                                                                    \n",
            " dense (Dense)                               (None, 512)                             3211776        \n",
            "                                                                                                    \n",
            " dense_1 (Dense)                             (None, 1)                               513            \n",
            "                                                                                                    \n",
            "====================================================================================================\n",
            "Total params: 3,453,121\n",
            "Trainable params: 3,453,121\n",
            "Non-trainable params: 0\n",
            "____________________________________________________________________________________________________\n",
            "None\n"
          ]
        }
      ]
    },
    {
      "cell_type": "code",
      "source": [
        "# Build and compile the model\n",
        "def build_model(model_name, hyperparameters):\n",
        "    print(\"Building model\")\n",
        "    # Build baseline binary classification model\n",
        "    if model_name == \"baseline_bin_class\":\n",
        "        model = baseline_cnn_model(hyperparameters)\n",
        "        print(\"Model build complete\")\n",
        "        print(\"Compiling model\")\n",
        "        model.compile(loss=\"binary_crossentropy\", optimizer=hyperparameters[\"optimizer\"], metrics=[\"accuracy\"])\n",
        "        print(\"Model compilation complete\")\n",
        "        return model\n",
        "    elif model_name == \"improved_bin_class\":\n",
        "        model = improved_cnn_model(hyperparameters)\n",
        "        print(\"Model build complete\")\n",
        "        print(\"Compiling model\")\n",
        "        model.compile(loss=\"binary_crossentropy\", optimizer=hyperparameters[\"optimizer\"], metrics=[\"accuracy\"])\n",
        "        print(\"Model compilation complete\")\n",
        "        return model"
      ],
      "metadata": {
        "id": "_dKHRn02PcIe"
      },
      "execution_count": null,
      "outputs": []
    },
    {
      "cell_type": "code",
      "source": [
        "# Train the model\n",
        "def train_model(compiled_model, train_gen, validate_gen, hyperparameters, callbacks=None):\n",
        "    print(\"Training model...\")\n",
        "\n",
        "    t0 = time()\n",
        "    history = compiled_model.fit(\n",
        "        train_gen,\n",
        "        validation_data=validate_gen,\n",
        "        epochs=hyperparameters[\"epochs\"],\n",
        "        callbacks=callbacks\n",
        "    )\n",
        "\n",
        "    print(\"Training took {} seconds\".format(int(time() - t0)))\n",
        "    return history"
      ],
      "metadata": {
        "id": "rc4aOCD1Q0cC"
      },
      "execution_count": null,
      "outputs": []
    },
    {
      "cell_type": "code",
      "source": [
        "# Define hyperparameters and build baseline CNN\n",
        "hyperparameters = {\n",
        "    \"epochs\": 100,\n",
        "    \"optimizer\": \"adam\",\n",
        "    \"dialation_rate\": 1,\n",
        "    \"strides\": (1, 1)\n",
        "}\n",
        "\n",
        "def run_baseline(hyperparameters):\n",
        "    train_gen, val_gen = stage_train_data((150, 150), 32, \"binary\")\n",
        "    model = build_model(\"baseline_bin_class\", hyperparameters)\n",
        "    history = train_model(model, train_gen, val_gen, hyperparameters)\n",
        "    return model, history\n",
        "\n",
        "def run_improved_bin_class(hyperparameters):\n",
        "    early_stopping = EarlyStopping(monitor=\"val_loss\", patience=8, restore_best_weights=True)\n",
        "    train_gen, val_gen = augment_train_data((150, 150), 32, \"binary\")\n",
        "    model = build_model(\"improved_bin_class\", hyperparameters)\n",
        "    history = train_model(model, train_gen, val_gen, hyperparameters, [early_stopping])\n",
        "    return model, history\n",
        "\n",
        "#model, history = run_baseline(hyperparameters)\n",
        "\n",
        "model1, history1 = run_improved_bin_class(hyperparameters)"
      ],
      "metadata": {
        "colab": {
          "base_uri": "https://localhost:8080/"
        },
        "id": "tCivK346dsCB",
        "outputId": "c6879dd4-97c8-464e-8017-e71161df8ce6"
      },
      "execution_count": null,
      "outputs": [
        {
          "output_type": "stream",
          "name": "stdout",
          "text": [
            "Found 1890 images belonging to 2 classes.\n",
            "Found 404 images belonging to 2 classes.\n",
            "Building model\n",
            "Model build complete\n",
            "Compiling model\n",
            "Model compilation complete\n",
            "Training model...\n",
            "Epoch 1/100\n",
            "60/60 [==============================] - 24s 370ms/step - loss: 0.6796 - accuracy: 0.5989 - val_loss: 0.5896 - val_accuracy: 0.6856\n",
            "Epoch 2/100\n",
            "60/60 [==============================] - 21s 354ms/step - loss: 0.6245 - accuracy: 0.6672 - val_loss: 0.6823 - val_accuracy: 0.5446\n",
            "Epoch 3/100\n",
            "60/60 [==============================] - 21s 357ms/step - loss: 0.4987 - accuracy: 0.7651 - val_loss: 0.4570 - val_accuracy: 0.7723\n",
            "Epoch 4/100\n",
            "60/60 [==============================] - 22s 364ms/step - loss: 0.3958 - accuracy: 0.8312 - val_loss: 0.7219 - val_accuracy: 0.7426\n",
            "Epoch 5/100\n",
            "60/60 [==============================] - 21s 359ms/step - loss: 0.3771 - accuracy: 0.8423 - val_loss: 0.3668 - val_accuracy: 0.8416\n",
            "Epoch 6/100\n",
            "60/60 [==============================] - 21s 357ms/step - loss: 0.3261 - accuracy: 0.8603 - val_loss: 0.4525 - val_accuracy: 0.8218\n",
            "Epoch 7/100\n",
            "60/60 [==============================] - 21s 359ms/step - loss: 0.3704 - accuracy: 0.8423 - val_loss: 0.3630 - val_accuracy: 0.8490\n",
            "Epoch 8/100\n",
            "60/60 [==============================] - 21s 355ms/step - loss: 0.3247 - accuracy: 0.8608 - val_loss: 0.3230 - val_accuracy: 0.8639\n",
            "Epoch 9/100\n",
            "60/60 [==============================] - 21s 348ms/step - loss: 0.3103 - accuracy: 0.8714 - val_loss: 0.4162 - val_accuracy: 0.8069\n",
            "Epoch 10/100\n",
            "60/60 [==============================] - 21s 347ms/step - loss: 0.3072 - accuracy: 0.8714 - val_loss: 0.3577 - val_accuracy: 0.8317\n",
            "Epoch 11/100\n",
            "60/60 [==============================] - 21s 349ms/step - loss: 0.3069 - accuracy: 0.8725 - val_loss: 0.3440 - val_accuracy: 0.8490\n",
            "Epoch 12/100\n",
            "60/60 [==============================] - 21s 350ms/step - loss: 0.3014 - accuracy: 0.8672 - val_loss: 0.3962 - val_accuracy: 0.8119\n",
            "Epoch 13/100\n",
            "60/60 [==============================] - 22s 360ms/step - loss: 0.2778 - accuracy: 0.8873 - val_loss: 0.3874 - val_accuracy: 0.8267\n",
            "Epoch 14/100\n",
            "60/60 [==============================] - 22s 363ms/step - loss: 0.2827 - accuracy: 0.8778 - val_loss: 0.3124 - val_accuracy: 0.8515\n",
            "Epoch 15/100\n",
            "60/60 [==============================] - 21s 352ms/step - loss: 0.2809 - accuracy: 0.8825 - val_loss: 0.3522 - val_accuracy: 0.8540\n",
            "Epoch 16/100\n",
            "60/60 [==============================] - 21s 349ms/step - loss: 0.2930 - accuracy: 0.8751 - val_loss: 0.3255 - val_accuracy: 0.8589\n",
            "Epoch 17/100\n",
            "60/60 [==============================] - 21s 355ms/step - loss: 0.2814 - accuracy: 0.8878 - val_loss: 0.2902 - val_accuracy: 0.8639\n",
            "Epoch 18/100\n",
            "60/60 [==============================] - 21s 350ms/step - loss: 0.2790 - accuracy: 0.8878 - val_loss: 0.3293 - val_accuracy: 0.8614\n",
            "Epoch 19/100\n",
            "60/60 [==============================] - 21s 347ms/step - loss: 0.2581 - accuracy: 0.8868 - val_loss: 0.4251 - val_accuracy: 0.8292\n",
            "Epoch 20/100\n",
            "60/60 [==============================] - 21s 350ms/step - loss: 0.2349 - accuracy: 0.9090 - val_loss: 0.3067 - val_accuracy: 0.8688\n",
            "Epoch 21/100\n",
            "60/60 [==============================] - 21s 351ms/step - loss: 0.2529 - accuracy: 0.8931 - val_loss: 0.2844 - val_accuracy: 0.8713\n",
            "Epoch 22/100\n",
            "60/60 [==============================] - 21s 354ms/step - loss: 0.2695 - accuracy: 0.8952 - val_loss: 0.2822 - val_accuracy: 0.8812\n",
            "Epoch 23/100\n",
            "60/60 [==============================] - 21s 346ms/step - loss: 0.2260 - accuracy: 0.9090 - val_loss: 0.4308 - val_accuracy: 0.8292\n",
            "Epoch 24/100\n",
            "60/60 [==============================] - 21s 342ms/step - loss: 0.3045 - accuracy: 0.8730 - val_loss: 0.4239 - val_accuracy: 0.8218\n",
            "Epoch 25/100\n",
            "60/60 [==============================] - 21s 352ms/step - loss: 0.3059 - accuracy: 0.8714 - val_loss: 0.3621 - val_accuracy: 0.8540\n",
            "Epoch 26/100\n",
            "60/60 [==============================] - 21s 347ms/step - loss: 0.2451 - accuracy: 0.9011 - val_loss: 0.3152 - val_accuracy: 0.8762\n",
            "Epoch 27/100\n",
            "60/60 [==============================] - 21s 348ms/step - loss: 0.2087 - accuracy: 0.9169 - val_loss: 0.2400 - val_accuracy: 0.8812\n",
            "Epoch 28/100\n",
            "60/60 [==============================] - 21s 349ms/step - loss: 0.2360 - accuracy: 0.9138 - val_loss: 0.3595 - val_accuracy: 0.8465\n",
            "Epoch 29/100\n",
            "60/60 [==============================] - 22s 360ms/step - loss: 0.2335 - accuracy: 0.9042 - val_loss: 0.2866 - val_accuracy: 0.8960\n",
            "Epoch 30/100\n",
            "60/60 [==============================] - 21s 352ms/step - loss: 0.2651 - accuracy: 0.8952 - val_loss: 0.3139 - val_accuracy: 0.8713\n",
            "Epoch 31/100\n",
            "60/60 [==============================] - 21s 349ms/step - loss: 0.2136 - accuracy: 0.9217 - val_loss: 0.2324 - val_accuracy: 0.9035\n",
            "Epoch 32/100\n",
            "60/60 [==============================] - 21s 345ms/step - loss: 0.2059 - accuracy: 0.9175 - val_loss: 0.2424 - val_accuracy: 0.8936\n",
            "Epoch 33/100\n",
            "60/60 [==============================] - 21s 349ms/step - loss: 0.1890 - accuracy: 0.9228 - val_loss: 0.3695 - val_accuracy: 0.8639\n",
            "Epoch 34/100\n",
            "60/60 [==============================] - 21s 351ms/step - loss: 0.1797 - accuracy: 0.9312 - val_loss: 0.3325 - val_accuracy: 0.8540\n",
            "Epoch 35/100\n",
            "60/60 [==============================] - 21s 345ms/step - loss: 0.2036 - accuracy: 0.9233 - val_loss: 0.3908 - val_accuracy: 0.8564\n",
            "Epoch 36/100\n",
            "60/60 [==============================] - 21s 349ms/step - loss: 0.1914 - accuracy: 0.9265 - val_loss: 0.2339 - val_accuracy: 0.9109\n",
            "Epoch 37/100\n",
            "60/60 [==============================] - 21s 349ms/step - loss: 0.1920 - accuracy: 0.9222 - val_loss: 0.2398 - val_accuracy: 0.9059\n",
            "Epoch 38/100\n",
            "60/60 [==============================] - 21s 346ms/step - loss: 0.1821 - accuracy: 0.9339 - val_loss: 0.2752 - val_accuracy: 0.8837\n",
            "Epoch 39/100\n",
            "60/60 [==============================] - 21s 354ms/step - loss: 0.1640 - accuracy: 0.9365 - val_loss: 0.2113 - val_accuracy: 0.9183\n",
            "Epoch 40/100\n",
            "60/60 [==============================] - 21s 354ms/step - loss: 0.2256 - accuracy: 0.9116 - val_loss: 0.2521 - val_accuracy: 0.9059\n",
            "Epoch 41/100\n",
            "60/60 [==============================] - 21s 352ms/step - loss: 0.1746 - accuracy: 0.9286 - val_loss: 0.3393 - val_accuracy: 0.8663\n",
            "Epoch 42/100\n",
            "60/60 [==============================] - 21s 352ms/step - loss: 0.1738 - accuracy: 0.9360 - val_loss: 0.3572 - val_accuracy: 0.8416\n",
            "Epoch 43/100\n",
            "60/60 [==============================] - 21s 353ms/step - loss: 0.1644 - accuracy: 0.9344 - val_loss: 0.2161 - val_accuracy: 0.9109\n",
            "Epoch 44/100\n",
            "60/60 [==============================] - 22s 361ms/step - loss: 0.1604 - accuracy: 0.9317 - val_loss: 0.2932 - val_accuracy: 0.8738\n",
            "Epoch 45/100\n",
            "60/60 [==============================] - 21s 351ms/step - loss: 0.1628 - accuracy: 0.9386 - val_loss: 0.2523 - val_accuracy: 0.8985\n",
            "Epoch 46/100\n",
            "60/60 [==============================] - 21s 351ms/step - loss: 0.1444 - accuracy: 0.9429 - val_loss: 0.2697 - val_accuracy: 0.8960\n",
            "Epoch 47/100\n",
            "60/60 [==============================] - 21s 354ms/step - loss: 0.1516 - accuracy: 0.9365 - val_loss: 0.3645 - val_accuracy: 0.8391\n",
            "Training took 1018 seconds\n"
          ]
        }
      ]
    },
    {
      "cell_type": "code",
      "source": [
        "def plot_metrics(history):\n",
        "    validation_metrics = pd.DataFrame(history.history)\n",
        "    print(validation_metrics)\n",
        "    print()\n",
        "    validation_metrics[[\"accuracy\", \"val_accuracy\"]].plot(xlabel=\"epochs\", ylabel=\"accuracy\").legend([\"Train accuracy\", \"Val accuracy\"])\n",
        "    validation_metrics[[\"loss\", \"val_loss\"]].plot(xlabel=\"epochs\", ylabel=\"loss\").legend([\"Train loss\", \"Val loss\"])\n",
        "    final_val_acc = validation_metrics.at[len(validation_metrics[[\"accuracy\", \"val_accuracy\"]]) -1, \"val_accuracy\"]\n",
        "    final_val_loss = validation_metrics.at[len(validation_metrics[[\"loss\", \"val_loss\"]]) -1, \"val_loss\"]\n",
        "    print(\"Final validation accuracy: {:.4f}\".format(final_val_acc))\n",
        "    print(\"Final validation loss:     {:.4f}\".format(final_val_loss))\n",
        "    print()\n",
        "\n",
        "plot_metrics(history1)"
      ],
      "metadata": {
        "colab": {
          "base_uri": "https://localhost:8080/",
          "height": 1000
        },
        "id": "qYAhePb7CUQ5",
        "outputId": "e34a8004-212b-462c-dac6-6b6c8d0d5e1a"
      },
      "execution_count": null,
      "outputs": [
        {
          "output_type": "stream",
          "name": "stdout",
          "text": [
            "        loss  accuracy  val_loss  val_accuracy\n",
            "0   0.679613  0.598942  0.589599      0.685644\n",
            "1   0.624480  0.667196  0.682290      0.544554\n",
            "2   0.498679  0.765079  0.456972      0.772277\n",
            "3   0.395778  0.831217  0.721943      0.742574\n",
            "4   0.377085  0.842328  0.366838      0.841584\n",
            "5   0.326144  0.860317  0.452543      0.821782\n",
            "6   0.370385  0.842328  0.362963      0.849010\n",
            "7   0.324684  0.860847  0.322972      0.863861\n",
            "8   0.310324  0.871429  0.416172      0.806931\n",
            "9   0.307244  0.871429  0.357696      0.831683\n",
            "10  0.306905  0.872487  0.343981      0.849010\n",
            "11  0.301384  0.867196  0.396152      0.811881\n",
            "12  0.277756  0.887302  0.387429      0.826733\n",
            "13  0.282708  0.877778  0.312366      0.851485\n",
            "14  0.280856  0.882540  0.352196      0.853960\n",
            "15  0.293029  0.875132  0.325493      0.858911\n",
            "16  0.281448  0.887831  0.290193      0.863861\n",
            "17  0.279041  0.887831  0.329291      0.861386\n",
            "18  0.258079  0.886773  0.425070      0.829208\n",
            "19  0.234950  0.908995  0.306700      0.868812\n",
            "20  0.252948  0.893122  0.284398      0.871287\n",
            "21  0.269496  0.895238  0.282205      0.881188\n",
            "22  0.226043  0.908995  0.430845      0.829208\n",
            "23  0.304496  0.873016  0.423919      0.821782\n",
            "24  0.305912  0.871429  0.362091      0.853960\n",
            "25  0.245066  0.901058  0.315213      0.876238\n",
            "26  0.208702  0.916931  0.239968      0.881188\n",
            "27  0.235995  0.913757  0.359521      0.846535\n",
            "28  0.233473  0.904233  0.286615      0.896040\n",
            "29  0.265066  0.895238  0.313928      0.871287\n",
            "30  0.213581  0.921693  0.232370      0.903465\n",
            "31  0.205946  0.917460  0.242357      0.893564\n",
            "32  0.189007  0.922751  0.369495      0.863861\n",
            "33  0.179677  0.931217  0.332545      0.853960\n",
            "34  0.203635  0.923280  0.390818      0.856436\n",
            "35  0.191413  0.926455  0.233868      0.910891\n",
            "36  0.191988  0.922222  0.239779      0.905941\n",
            "37  0.182063  0.933862  0.275203      0.883663\n",
            "38  0.164031  0.936508  0.211313      0.918317\n",
            "39  0.225553  0.911640  0.252061      0.905941\n",
            "40  0.174569  0.928571  0.339332      0.866337\n",
            "41  0.173764  0.935979  0.357150      0.841584\n",
            "42  0.164367  0.934392  0.216115      0.910891\n",
            "43  0.160401  0.931746  0.293200      0.873762\n",
            "44  0.162799  0.938624  0.252316      0.898515\n",
            "45  0.144351  0.942857  0.269699      0.896040\n",
            "46  0.151580  0.936508  0.364544      0.839109\n",
            "\n",
            "Final validation accuracy: 0.8391\n",
            "Final validation loss:     0.3645\n",
            "\n"
          ]
        },
        {
          "output_type": "display_data",
          "data": {
            "text/plain": [
              "<Figure size 432x288 with 1 Axes>"
            ],
            "image/png": "[encoded data removed]"
          },
          "metadata": {
            "needs_background": "light"
          }
        },
        {
          "output_type": "display_data",
          "data": {
            "text/plain": [
              "<Figure size 432x288 with 1 Axes>"
            ],
            "image/png": "[encoded data removed]"
          },
          "metadata": {
            "needs_background": "light"
          }
        }
      ]
    },
    {
      "cell_type": "code",
      "source": [
        "# Do final evaluation of the model using holdout test data\n",
        "test_datagen = ImageDataGenerator(rescale=1./255)\n",
        "\n",
        "test_generator = test_datagen.flow_from_directory(\n",
        "    test_dir,\n",
        "    target_size=(150, 150),\n",
        "    batch_size=32,\n",
        "    class_mode=\"binary\"\n",
        ")\n",
        "\n",
        "test_metrics = model1.evaluate(test_generator)\n",
        "print(\"Final test accuracy: {:.4f}\".format(test_metrics[1]))\n",
        "print(\"Final test loss: {:.2f}\".format(test_metrics[0]))"
      ],
      "metadata": {
        "colab": {
          "base_uri": "https://localhost:8080/"
        },
        "id": "DBzQAbKyVExH",
        "outputId": "d04a8f2a-e54b-4aa9-9f46-8206f9516d69"
      },
      "execution_count": null,
      "outputs": [
        {
          "output_type": "stream",
          "name": "stdout",
          "text": [
            "Found 406 images belonging to 2 classes.\n",
            "13/13 [==============================] - 2s 154ms/step - loss: 0.2041 - accuracy: 0.9212\n",
            "Final test accuracy: 0.9212\n",
            "Final test loss: 0.20\n"
          ]
        }
      ]
    },
    {
      "cell_type": "code",
      "source": [
        "model1.save(\"1c-golfball_cathedral_improved.h5\")"
      ],
      "metadata": {
        "id": "InDcAs5TB3P2"
      },
      "execution_count": null,
      "outputs": []
    },
    {
      "cell_type": "markdown",
      "source": [],
      "metadata": {
        "id": "FdbVYBQ9CV2h"
      }
    }
  ]
}